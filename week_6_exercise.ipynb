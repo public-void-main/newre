{
  "cells": [
    {
      "cell_type": "markdown",
      "metadata": {
        "id": "view-in-github",
        "colab_type": "text"
      },
      "source": [
        "<a href=\"https://colab.research.google.com/github/public-void-main/newre/blob/main/week_6_exercise.ipynb\" target=\"_parent\"><img src=\"https://colab.research.google.com/assets/colab-badge.svg\" alt=\"Open In Colab\"/></a>"
      ]
    },
    {
      "cell_type": "code",
      "execution_count": 22,
      "id": "5acb3110",
      "metadata": {
        "colab": {
          "base_uri": "https://localhost:8080/"
        },
        "id": "5acb3110",
        "outputId": "57fb738f-6bd6-4bed-9d89-b3de16932d94"
      },
      "outputs": [
        {
          "output_type": "stream",
          "name": "stdout",
          "text": [
            "The unique brands of cereal manufacturers are: 7\n",
            "\n"
          ]
        }
      ],
      "source": [
        "import pandas as pd\n",
        "import numpy as np\n",
        "df=pd.DataFrame(pd.read_csv(\"Cereals.csv\"))\n",
        "\n",
        "#replace with\n",
        "df[\"calories\"] = df[\"calories\"].replace(-1, df[\"calories\"].mean())\n",
        "df[\"protein\"] = df[\"protein\"].replace(-1, df[\"protein\"].mean())\n",
        "df[\"fat\"] = df[\"fat\"].replace(-1, df[\"fat\"].mean())\n",
        "df[\"sodium\"] = df[\"sodium\"].replace(-1, df[\"sodium\"].mean())\n",
        "df[\"fiber\"] = df[\"fiber\"].replace(-1, df[\"fiber\"].mean())\n",
        "df[\"carbo\"] = df[\"carbo\"].replace(-1, df[\"carbo\"].mean())\n",
        "df['sugars']=df['sugars'].replace(-1,df['sugars'].mean())\n",
        "df['potass']=df['potass'].replace(-1,df['potass'].mean())\n",
        "df['vitamins']=df['vitamins'].replace(-1,df['vitamins'].mean())\n",
        "\n",
        "#how many unique brands of cereal are there\n",
        "print(\"The unique brands of cereal manufacturers are: \"+str(len(pd.unique(df['mfr'])))+\"\\n\")"
      ]
    },
    {
      "cell_type": "code",
      "source": [
        "#how many hot/cold cereals\n",
        "print(df['type'].value_counts())"
      ],
      "metadata": {
        "colab": {
          "base_uri": "https://localhost:8080/"
        },
        "id": "0069tnevskuL",
        "outputId": "0cdb35da-c4db-4a4e-902d-64a270c3d61c"
      },
      "id": "0069tnevskuL",
      "execution_count": 16,
      "outputs": [
        {
          "output_type": "stream",
          "name": "stdout",
          "text": [
            "type\n",
            "C    73\n",
            "H     3\n",
            "Name: count, dtype: int64\n"
          ]
        }
      ]
    },
    {
      "cell_type": "code",
      "execution_count": 17,
      "id": "e26c3314",
      "metadata": {
        "colab": {
          "base_uri": "https://localhost:8080/"
        },
        "id": "e26c3314",
        "outputId": "a3688f45-50ea-4a0f-aa15-940b0afdedbc"
      },
      "outputs": [
        {
          "output_type": "stream",
          "name": "stdout",
          "text": [
            "<class 'pandas.core.frame.DataFrame'>\n",
            "RangeIndex: 76 entries, 0 to 75\n",
            "Data columns (total 16 columns):\n",
            " #   Column    Non-Null Count  Dtype  \n",
            "---  ------    --------------  -----  \n",
            " 0   name      76 non-null     object \n",
            " 1   mfr       76 non-null     object \n",
            " 2   type      76 non-null     object \n",
            " 3   calories  76 non-null     int64  \n",
            " 4   protein   76 non-null     int64  \n",
            " 5   fat       76 non-null     int64  \n",
            " 6   sodium    76 non-null     int64  \n",
            " 7   fiber     76 non-null     float64\n",
            " 8   carbo     76 non-null     float64\n",
            " 9   sugars    76 non-null     int64  \n",
            " 10  potass    76 non-null     int64  \n",
            " 11  vitamins  76 non-null     int64  \n",
            " 12  shelf     76 non-null     int64  \n",
            " 13  weight    76 non-null     float64\n",
            " 14  cups      76 non-null     float64\n",
            " 15  rating    76 non-null     float64\n",
            "dtypes: float64(5), int64(8), object(3)\n",
            "memory usage: 9.6+ KB\n"
          ]
        }
      ],
      "source": [
        "df=pd.DataFrame(pd.read_csv(\"Cereals.csv\"))\n",
        "df.info()"
      ]
    },
    {
      "cell_type": "code",
      "source": [
        "d_x=df[['shelf','rating']]\n",
        "print(d_x['shelf'].value_counts())\n",
        "d_x=d_x.reset_index(drop=True)"
      ],
      "metadata": {
        "colab": {
          "base_uri": "https://localhost:8080/"
        },
        "id": "ymqPchgEtPt3",
        "outputId": "ebcbeede-9924-49c1-b3f1-71bc68ec1136"
      },
      "id": "ymqPchgEtPt3",
      "execution_count": 18,
      "outputs": [
        {
          "output_type": "stream",
          "name": "stdout",
          "text": [
            "shelf\n",
            "3    35\n",
            "2    21\n",
            "1    20\n",
            "Name: count, dtype: int64\n"
          ]
        }
      ]
    },
    {
      "cell_type": "code",
      "source": [
        "r_avg=d_x.groupby('shelf').mean()\n",
        "r_avg.plot(kind='bar',title='average rating of cereals by shelf')\n",
        "d_x.describe()"
      ],
      "metadata": {
        "colab": {
          "base_uri": "https://localhost:8080/",
          "height": 750
        },
        "id": "oKeYe49FtAcg",
        "outputId": "45007993-1a10-4e2b-a327-9bf11c0ea4b7"
      },
      "id": "oKeYe49FtAcg",
      "execution_count": 19,
      "outputs": [
        {
          "output_type": "execute_result",
          "data": {
            "text/plain": [
              "           shelf     rating\n",
              "count  76.000000  76.000000\n",
              "mean    2.197368  42.327057\n",
              "std     0.832982  13.820602\n",
              "min     1.000000  18.042851\n",
              "25%     1.000000  32.932466\n",
              "50%     2.000000  40.253086\n",
              "75%     3.000000  50.780847\n",
              "max     3.000000  93.704912"
            ],
            "text/html": [
              "\n",
              "  <div id=\"df-5cb845a2-0a34-4f47-93b1-6bdabb51098b\" class=\"colab-df-container\">\n",
              "    <div>\n",
              "<style scoped>\n",
              "    .dataframe tbody tr th:only-of-type {\n",
              "        vertical-align: middle;\n",
              "    }\n",
              "\n",
              "    .dataframe tbody tr th {\n",
              "        vertical-align: top;\n",
              "    }\n",
              "\n",
              "    .dataframe thead th {\n",
              "        text-align: right;\n",
              "    }\n",
              "</style>\n",
              "<table border=\"1\" class=\"dataframe\">\n",
              "  <thead>\n",
              "    <tr style=\"text-align: right;\">\n",
              "      <th></th>\n",
              "      <th>shelf</th>\n",
              "      <th>rating</th>\n",
              "    </tr>\n",
              "  </thead>\n",
              "  <tbody>\n",
              "    <tr>\n",
              "      <th>count</th>\n",
              "      <td>76.000000</td>\n",
              "      <td>76.000000</td>\n",
              "    </tr>\n",
              "    <tr>\n",
              "      <th>mean</th>\n",
              "      <td>2.197368</td>\n",
              "      <td>42.327057</td>\n",
              "    </tr>\n",
              "    <tr>\n",
              "      <th>std</th>\n",
              "      <td>0.832982</td>\n",
              "      <td>13.820602</td>\n",
              "    </tr>\n",
              "    <tr>\n",
              "      <th>min</th>\n",
              "      <td>1.000000</td>\n",
              "      <td>18.042851</td>\n",
              "    </tr>\n",
              "    <tr>\n",
              "      <th>25%</th>\n",
              "      <td>1.000000</td>\n",
              "      <td>32.932466</td>\n",
              "    </tr>\n",
              "    <tr>\n",
              "      <th>50%</th>\n",
              "      <td>2.000000</td>\n",
              "      <td>40.253086</td>\n",
              "    </tr>\n",
              "    <tr>\n",
              "      <th>75%</th>\n",
              "      <td>3.000000</td>\n",
              "      <td>50.780847</td>\n",
              "    </tr>\n",
              "    <tr>\n",
              "      <th>max</th>\n",
              "      <td>3.000000</td>\n",
              "      <td>93.704912</td>\n",
              "    </tr>\n",
              "  </tbody>\n",
              "</table>\n",
              "</div>\n",
              "    <div class=\"colab-df-buttons\">\n",
              "\n",
              "  <div class=\"colab-df-container\">\n",
              "    <button class=\"colab-df-convert\" onclick=\"convertToInteractive('df-5cb845a2-0a34-4f47-93b1-6bdabb51098b')\"\n",
              "            title=\"Convert this dataframe to an interactive table.\"\n",
              "            style=\"display:none;\">\n",
              "\n",
              "  <svg xmlns=\"http://www.w3.org/2000/svg\" height=\"24px\" viewBox=\"0 -960 960 960\">\n",
              "    <path d=\"M120-120v-720h720v720H120Zm60-500h600v-160H180v160Zm220 220h160v-160H400v160Zm0 220h160v-160H400v160ZM180-400h160v-160H180v160Zm440 0h160v-160H620v160ZM180-180h160v-160H180v160Zm440 0h160v-160H620v160Z\"/>\n",
              "  </svg>\n",
              "    </button>\n",
              "\n",
              "  <style>\n",
              "    .colab-df-container {\n",
              "      display:flex;\n",
              "      gap: 12px;\n",
              "    }\n",
              "\n",
              "    .colab-df-convert {\n",
              "      background-color: #E8F0FE;\n",
              "      border: none;\n",
              "      border-radius: 50%;\n",
              "      cursor: pointer;\n",
              "      display: none;\n",
              "      fill: #1967D2;\n",
              "      height: 32px;\n",
              "      padding: 0 0 0 0;\n",
              "      width: 32px;\n",
              "    }\n",
              "\n",
              "    .colab-df-convert:hover {\n",
              "      background-color: #E2EBFA;\n",
              "      box-shadow: 0px 1px 2px rgba(60, 64, 67, 0.3), 0px 1px 3px 1px rgba(60, 64, 67, 0.15);\n",
              "      fill: #174EA6;\n",
              "    }\n",
              "\n",
              "    .colab-df-buttons div {\n",
              "      margin-bottom: 4px;\n",
              "    }\n",
              "\n",
              "    [theme=dark] .colab-df-convert {\n",
              "      background-color: #3B4455;\n",
              "      fill: #D2E3FC;\n",
              "    }\n",
              "\n",
              "    [theme=dark] .colab-df-convert:hover {\n",
              "      background-color: #434B5C;\n",
              "      box-shadow: 0px 1px 3px 1px rgba(0, 0, 0, 0.15);\n",
              "      filter: drop-shadow(0px 1px 2px rgba(0, 0, 0, 0.3));\n",
              "      fill: #FFFFFF;\n",
              "    }\n",
              "  </style>\n",
              "\n",
              "    <script>\n",
              "      const buttonEl =\n",
              "        document.querySelector('#df-5cb845a2-0a34-4f47-93b1-6bdabb51098b button.colab-df-convert');\n",
              "      buttonEl.style.display =\n",
              "        google.colab.kernel.accessAllowed ? 'block' : 'none';\n",
              "\n",
              "      async function convertToInteractive(key) {\n",
              "        const element = document.querySelector('#df-5cb845a2-0a34-4f47-93b1-6bdabb51098b');\n",
              "        const dataTable =\n",
              "          await google.colab.kernel.invokeFunction('convertToInteractive',\n",
              "                                                    [key], {});\n",
              "        if (!dataTable) return;\n",
              "\n",
              "        const docLinkHtml = 'Like what you see? Visit the ' +\n",
              "          '<a target=\"_blank\" href=https://colab.research.google.com/notebooks/data_table.ipynb>data table notebook</a>'\n",
              "          + ' to learn more about interactive tables.';\n",
              "        element.innerHTML = '';\n",
              "        dataTable['output_type'] = 'display_data';\n",
              "        await google.colab.output.renderOutput(dataTable, element);\n",
              "        const docLink = document.createElement('div');\n",
              "        docLink.innerHTML = docLinkHtml;\n",
              "        element.appendChild(docLink);\n",
              "      }\n",
              "    </script>\n",
              "  </div>\n",
              "\n",
              "\n",
              "<div id=\"df-cdf95c20-e469-4779-b201-c2b6891c4c90\">\n",
              "  <button class=\"colab-df-quickchart\" onclick=\"quickchart('df-cdf95c20-e469-4779-b201-c2b6891c4c90')\"\n",
              "            title=\"Suggest charts\"\n",
              "            style=\"display:none;\">\n",
              "\n",
              "<svg xmlns=\"http://www.w3.org/2000/svg\" height=\"24px\"viewBox=\"0 0 24 24\"\n",
              "     width=\"24px\">\n",
              "    <g>\n",
              "        <path d=\"M19 3H5c-1.1 0-2 .9-2 2v14c0 1.1.9 2 2 2h14c1.1 0 2-.9 2-2V5c0-1.1-.9-2-2-2zM9 17H7v-7h2v7zm4 0h-2V7h2v10zm4 0h-2v-4h2v4z\"/>\n",
              "    </g>\n",
              "</svg>\n",
              "  </button>\n",
              "\n",
              "<style>\n",
              "  .colab-df-quickchart {\n",
              "      --bg-color: #E8F0FE;\n",
              "      --fill-color: #1967D2;\n",
              "      --hover-bg-color: #E2EBFA;\n",
              "      --hover-fill-color: #174EA6;\n",
              "      --disabled-fill-color: #AAA;\n",
              "      --disabled-bg-color: #DDD;\n",
              "  }\n",
              "\n",
              "  [theme=dark] .colab-df-quickchart {\n",
              "      --bg-color: #3B4455;\n",
              "      --fill-color: #D2E3FC;\n",
              "      --hover-bg-color: #434B5C;\n",
              "      --hover-fill-color: #FFFFFF;\n",
              "      --disabled-bg-color: #3B4455;\n",
              "      --disabled-fill-color: #666;\n",
              "  }\n",
              "\n",
              "  .colab-df-quickchart {\n",
              "    background-color: var(--bg-color);\n",
              "    border: none;\n",
              "    border-radius: 50%;\n",
              "    cursor: pointer;\n",
              "    display: none;\n",
              "    fill: var(--fill-color);\n",
              "    height: 32px;\n",
              "    padding: 0;\n",
              "    width: 32px;\n",
              "  }\n",
              "\n",
              "  .colab-df-quickchart:hover {\n",
              "    background-color: var(--hover-bg-color);\n",
              "    box-shadow: 0 1px 2px rgba(60, 64, 67, 0.3), 0 1px 3px 1px rgba(60, 64, 67, 0.15);\n",
              "    fill: var(--button-hover-fill-color);\n",
              "  }\n",
              "\n",
              "  .colab-df-quickchart-complete:disabled,\n",
              "  .colab-df-quickchart-complete:disabled:hover {\n",
              "    background-color: var(--disabled-bg-color);\n",
              "    fill: var(--disabled-fill-color);\n",
              "    box-shadow: none;\n",
              "  }\n",
              "\n",
              "  .colab-df-spinner {\n",
              "    border: 2px solid var(--fill-color);\n",
              "    border-color: transparent;\n",
              "    border-bottom-color: var(--fill-color);\n",
              "    animation:\n",
              "      spin 1s steps(1) infinite;\n",
              "  }\n",
              "\n",
              "  @keyframes spin {\n",
              "    0% {\n",
              "      border-color: transparent;\n",
              "      border-bottom-color: var(--fill-color);\n",
              "      border-left-color: var(--fill-color);\n",
              "    }\n",
              "    20% {\n",
              "      border-color: transparent;\n",
              "      border-left-color: var(--fill-color);\n",
              "      border-top-color: var(--fill-color);\n",
              "    }\n",
              "    30% {\n",
              "      border-color: transparent;\n",
              "      border-left-color: var(--fill-color);\n",
              "      border-top-color: var(--fill-color);\n",
              "      border-right-color: var(--fill-color);\n",
              "    }\n",
              "    40% {\n",
              "      border-color: transparent;\n",
              "      border-right-color: var(--fill-color);\n",
              "      border-top-color: var(--fill-color);\n",
              "    }\n",
              "    60% {\n",
              "      border-color: transparent;\n",
              "      border-right-color: var(--fill-color);\n",
              "    }\n",
              "    80% {\n",
              "      border-color: transparent;\n",
              "      border-right-color: var(--fill-color);\n",
              "      border-bottom-color: var(--fill-color);\n",
              "    }\n",
              "    90% {\n",
              "      border-color: transparent;\n",
              "      border-bottom-color: var(--fill-color);\n",
              "    }\n",
              "  }\n",
              "</style>\n",
              "\n",
              "  <script>\n",
              "    async function quickchart(key) {\n",
              "      const quickchartButtonEl =\n",
              "        document.querySelector('#' + key + ' button');\n",
              "      quickchartButtonEl.disabled = true;  // To prevent multiple clicks.\n",
              "      quickchartButtonEl.classList.add('colab-df-spinner');\n",
              "      try {\n",
              "        const charts = await google.colab.kernel.invokeFunction(\n",
              "            'suggestCharts', [key], {});\n",
              "      } catch (error) {\n",
              "        console.error('Error during call to suggestCharts:', error);\n",
              "      }\n",
              "      quickchartButtonEl.classList.remove('colab-df-spinner');\n",
              "      quickchartButtonEl.classList.add('colab-df-quickchart-complete');\n",
              "    }\n",
              "    (() => {\n",
              "      let quickchartButtonEl =\n",
              "        document.querySelector('#df-cdf95c20-e469-4779-b201-c2b6891c4c90 button');\n",
              "      quickchartButtonEl.style.display =\n",
              "        google.colab.kernel.accessAllowed ? 'block' : 'none';\n",
              "    })();\n",
              "  </script>\n",
              "</div>\n",
              "\n",
              "    </div>\n",
              "  </div>\n"
            ],
            "application/vnd.google.colaboratory.intrinsic+json": {
              "type": "dataframe",
              "summary": "{\n  \"name\": \"d_x\",\n  \"rows\": 8,\n  \"fields\": [\n    {\n      \"column\": \"shelf\",\n      \"properties\": {\n        \"dtype\": \"number\",\n        \"std\": 26.22627326912375,\n        \"min\": 0.8329823822403492,\n        \"max\": 76.0,\n        \"num_unique_values\": 6,\n        \"samples\": [\n          76.0,\n          2.1973684210526314,\n          3.0\n        ],\n        \"semantic_type\": \"\",\n        \"description\": \"\"\n      }\n    },\n    {\n      \"column\": \"rating\",\n      \"properties\": {\n        \"dtype\": \"number\",\n        \"std\": 27.34176962472606,\n        \"min\": 13.820601797752214,\n        \"max\": 93.704912,\n        \"num_unique_values\": 8,\n        \"samples\": [\n          42.32705672368421,\n          40.253086499999995,\n          76.0\n        ],\n        \"semantic_type\": \"\",\n        \"description\": \"\"\n      }\n    }\n  ]\n}"
            }
          },
          "metadata": {},
          "execution_count": 19
        },
        {
          "output_type": "display_data",
          "data": {
            "text/plain": [
              "<Figure size 640x480 with 1 Axes>"
            ],
            "image/png": "[encoded data removed]"
          },
          "metadata": {}
        }
      ]
    },
    {
      "cell_type": "code",
      "execution_count": 20,
      "id": "5d96df8f",
      "metadata": {
        "id": "5d96df8f",
        "outputId": "4e9ee279-4216-43ae-d630-184efec74c48",
        "colab": {
          "base_uri": "https://localhost:8080/"
        }
      },
      "outputs": [
        {
          "output_type": "stream",
          "name": "stdout",
          "text": [
            "mean rating of hot cereals: 56.73770833333334\n",
            "mean rating of cold cereals: 41.73483816438357\n"
          ]
        }
      ],
      "source": [
        "#Compare the rating for hot vs cold cereals. Which do people prefer?\n",
        "d_h=df[df['type']=='H']['rating']\n",
        "d_c=df[df['type']=='C']['rating']\n",
        "print(\"mean rating of hot cereals: \"+str(d_h.mean()))\n",
        "print(\"mean rating of cold cereals: \"+str(d_c.mean()))\n"
      ]
    },
    {
      "cell_type": "code",
      "execution_count": 24,
      "id": "434b4b97",
      "metadata": {
        "id": "434b4b97",
        "outputId": "220775ec-99fe-4b12-c4d4-2ee492d815ca",
        "colab": {
          "base_uri": "https://localhost:8080/"
        }
      },
      "outputs": [
        {
          "output_type": "stream",
          "name": "stdout",
          "text": [
            "name      All-Bran_with_Extra_Fiber\n",
            "sugars                          0.0\n",
            "fiber                          14.0\n",
            "Name: 2, dtype: object\n",
            "\n",
            "\n",
            "name      All-Bran_with_Extra_Fiber\n",
            "sugars                          0.0\n",
            "fiber                          14.0\n",
            "Name: 2, dtype: object\n"
          ]
        }
      ],
      "source": [
        "#Which cereals have the highest fiber and lowest sugar?\n",
        "d_f=df[['fiber','sugars','name']]\n",
        "print(d_f.loc[d_f['fiber'].idxmax(),['name','sugars','fiber']])\n",
        "print(\"\\n\")\n",
        "print(d_f.loc[d_f['sugars'].idxmin(),['name','sugars','fiber']])"
      ]
    },
    {
      "cell_type": "code",
      "execution_count": 25,
      "id": "961891ad",
      "metadata": {
        "colab": {
          "base_uri": "https://localhost:8080/"
        },
        "id": "961891ad",
        "outputId": "8b4f125e-0a3b-4cc0-cf66-2d0f563dafe6"
      },
      "outputs": [
        {
          "output_type": "stream",
          "name": "stdout",
          "text": [
            "1                                  All-Bran\n",
            "2                 All-Bran_with_Extra_Fiber\n",
            "10                                 Cheerios\n",
            "40                                     Life\n",
            "42                                    Maypo\n",
            "43     Muesli_Raisins,_Dates,_&amp;_Almonds\n",
            "44    Muesli_Raisins,_Peaches,_&amp;_Pecans\n",
            "55                       Quaker_Oat_Squares\n",
            "56                           Quaker_Oatmeal\n",
            "66                                Special_K\n",
            "Name: name, dtype: object\n"
          ]
        }
      ],
      "source": [
        "#Which Cereals that have more than 3 grams of protein?\n",
        "d_p=df[['name','protein']]\n",
        "d_p=d_p['name'][d_p['protein']>3]\n",
        "print(d_p)"
      ]
    },
    {
      "cell_type": "code",
      "execution_count": 26,
      "id": "b1729fb2",
      "metadata": {
        "colab": {
          "base_uri": "https://localhost:8080/"
        },
        "id": "b1729fb2",
        "outputId": "8f49c332-b2e9-4dfe-fe19-be817cfaa01d"
      },
      "outputs": [
        {
          "output_type": "stream",
          "name": "stdout",
          "text": [
            "The best cereal is: All-Bran_with_Extra_Fiber\n",
            "The worst cereal is: Cap'n'Crunch\n"
          ]
        }
      ],
      "source": [
        "#what is the best and worst cereal\n",
        "cereal_best=df.loc[df['rating'].idxmax(),'name']\n",
        "cereal_worst=df.loc[df['rating'].idxmin(),'name']\n",
        "print(\"The best cereal is: \"+cereal_best)\n",
        "print(\"The worst cereal is: \"+cereal_worst)"
      ]
    },
    {
      "cell_type": "code",
      "execution_count": 27,
      "id": "-zB8jU_p1H2U",
      "metadata": {
        "colab": {
          "base_uri": "https://localhost:8080/"
        },
        "id": "-zB8jU_p1H2U",
        "outputId": "8fc853b0-0ee7-4b2f-910d-fd90317b3b80"
      },
      "outputs": [
        {
          "output_type": "stream",
          "name": "stdout",
          "text": [
            "mfr\n",
            "K    23\n",
            "G    22\n",
            "P     9\n",
            "R     8\n",
            "Q     8\n",
            "N     5\n",
            "A     1\n",
            "Name: count, dtype: int64\n"
          ]
        }
      ],
      "source": [
        "df_mfr=df['mfr']\n",
        "print(df_mfr.value_counts())"
      ]
    },
    {
      "cell_type": "code",
      "source": [
        "#sugar vs calorie comparison\n",
        "df.plot(kind='scatter',x='sugars',y='calories',title='comp calories and sugars')"
      ],
      "metadata": {
        "colab": {
          "base_uri": "https://localhost:8080/",
          "height": 490
        },
        "id": "5hvSjE7q0Js2",
        "outputId": "366d48f1-3fee-4c1b-990e-c600cbf8e324"
      },
      "id": "5hvSjE7q0Js2",
      "execution_count": 28,
      "outputs": [
        {
          "output_type": "execute_result",
          "data": {
            "text/plain": [
              "<Axes: title={'center': 'comp calories and sugars'}, xlabel='sugars', ylabel='calories'>"
            ]
          },
          "metadata": {},
          "execution_count": 28
        },
        {
          "output_type": "display_data",
          "data": {
            "text/plain": [
              "<Figure size 640x480 with 1 Axes>"
            ],
            "image/png": "[encoded data removed]"
          },
          "metadata": {}
        }
      ]
    },
    {
      "cell_type": "code",
      "source": [
        "#Avg nutrition\n"
      ],
      "metadata": {
        "id": "ziZCIQn-_P_a"
      },
      "id": "ziZCIQn-_P_a",
      "execution_count": null,
      "outputs": []
    }
  ],
  "metadata": {
    "colab": {
      "provenance": [],
      "include_colab_link": true
    },
    "kernelspec": {
      "display_name": "Python 3 (ipykernel)",
      "language": "python",
      "name": "python3"
    },
    "language_info": {
      "codemirror_mode": {
        "name": "ipython",
        "version": 3
      },
      "file_extension": ".py",
      "mimetype": "text/x-python",
      "name": "python",
      "nbconvert_exporter": "python",
      "pygments_lexer": "ipython3",
      "version": "3.9.13"
    }
  },
  "nbformat": 4,
  "nbformat_minor": 5
}